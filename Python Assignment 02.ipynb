{
 "cells": [
  {
   "cell_type": "markdown",
   "id": "1e308da3-1099-4345-b9e6-97232b943730",
   "metadata": {},
   "source": [
    "## Python Assignment 02\n",
    "\n",
    "__1. Write a program to accept percentage from the user and display the grade according to the following__\n"
   ]
  },
  {
   "cell_type": "code",
   "execution_count": 1,
   "id": "49c0b966-6340-4969-8a4b-d93f4e68c1f6",
   "metadata": {},
   "outputs": [
    {
     "name": "stdin",
     "output_type": "stream",
     "text": [
      "Enter your percentage:  95\n"
     ]
    },
    {
     "name": "stdout",
     "output_type": "stream",
     "text": [
      "Your grade is A\n"
     ]
    }
   ],
   "source": [
    "marks = int(input(\"Enter your percentage: \"))\n",
    "\n",
    "if marks > 90:\n",
    "    print(\"Your grade is A\")\n",
    "elif marks > 80 and marks <= 90:\n",
    "    print(\"Your grade is B\")\n",
    "elif marks >= 60 and marks <= 80:\n",
    "    print(\"Your grade is C\")\n",
    "else:\n",
    "    print(\"Your grade is D\")"
   ]
  },
  {
   "cell_type": "markdown",
   "id": "3a35fa59-799c-4396-af93-fd5205205671",
   "metadata": {},
   "source": [
    "__2. Write a program to accept the cost price of a bike and display the road tax to be paid according to the following criteria:__"
   ]
  },
  {
   "cell_type": "code",
   "execution_count": 2,
   "id": "cdcd1be4-5347-4b0f-ae4c-3adb33ef8589",
   "metadata": {},
   "outputs": [
    {
     "name": "stdin",
     "output_type": "stream",
     "text": [
      "Enter the cost price of your bike:  120000\n"
     ]
    },
    {
     "name": "stdout",
     "output_type": "stream",
     "text": [
      "Road Tax is: 18000.0\n"
     ]
    }
   ],
   "source": [
    "cp = int(input(\"Enter the cost price of your bike: \"))\n",
    "\n",
    "if cp > 100000:\n",
    "    print(f'Road Tax is: {cp*0.15}')\n",
    "elif cp > 50000 and cp <= 100000:\n",
    "    print(f'Road Tax is: {cp*0.10}')\n",
    "else:\n",
    "    print(f'Road Tax is: {cp*0.5}')"
   ]
  },
  {
   "cell_type": "markdown",
   "id": "2aa68930-d4e5-4fa8-8b3a-c72ef973c7d9",
   "metadata": {},
   "source": [
    "__3. Accept any city from the user and display monuments of that city__"
   ]
  },
  {
   "cell_type": "code",
   "execution_count": 3,
   "id": "362c9b45-e661-46e8-b280-898515d0b616",
   "metadata": {},
   "outputs": [
    {
     "name": "stdin",
     "output_type": "stream",
     "text": [
      "Enter your city:  Agra\n"
     ]
    },
    {
     "name": "stdout",
     "output_type": "stream",
     "text": [
      "Taj Mahal\n"
     ]
    }
   ],
   "source": [
    "city = input(\"Enter your city: \")\n",
    "\n",
    "if city == 'Delhi':\n",
    "    print(\"Red Fort\")\n",
    "elif city == 'Agra':\n",
    "    print(\"Taj Mahal\")\n",
    "elif city == 'Jaipur':\n",
    "    print(\"Jal Mahal\")\n",
    "else:\n",
    "    print(\"Enter the city between Delhi, Agra and Jaipur\")"
   ]
  },
  {
   "cell_type": "markdown",
   "id": "24578de4-f66f-43a4-a8bf-00d94edad8ee",
   "metadata": {},
   "source": [
    "__4. Check how many times a given number can be divided by 3 before it is less than or equal to 10.__"
   ]
  },
  {
   "cell_type": "code",
   "execution_count": 4,
   "id": "005c4260-9543-4d7a-a813-a5ce2db1ab1e",
   "metadata": {},
   "outputs": [
    {
     "name": "stdout",
     "output_type": "stream",
     "text": [
      "The number can be divided by 3, 4 times before it is less than or equal to 10.\n"
     ]
    }
   ],
   "source": [
    "count = 0\n",
    "num = 729\n",
    "print(\"The number is \", num)\n",
    "while num > 10:\n",
    "    num = num // 3\n",
    "    count += 1\n",
    "print(f'The number can be divided by 3, {count} times before it is less than or equal to 10.')"
   ]
  },
  {
   "cell_type": "markdown",
   "id": "e88a58a0-42fe-4796-81e9-3e5bbbaacfa2",
   "metadata": {},
   "source": [
    "__5. Why and When to Use while Loop in Python give a detailed description with an example.__\n",
    "- In Python, a while loop is used when you want to execute a block of code repeatedly until a certain condition is met.\n",
    "- The condition is checked at the beginning of each iteration, and if it is true, the loop is executed.\n",
    "- The loop continues until the condition is false.\n",
    "- The syntax for a 'while' loop is:\n",
    "<br>__while condition:__\n",
    "- Example: \n"
   ]
  },
  {
   "cell_type": "code",
   "execution_count": 5,
   "id": "6cf9eaa3-c12e-4c21-82fd-3f59e0de827e",
   "metadata": {},
   "outputs": [
    {
     "name": "stdout",
     "output_type": "stream",
     "text": [
      "1\n",
      "2\n",
      "3\n",
      "4\n",
      "5\n",
      "6\n",
      "7\n",
      "8\n",
      "9\n",
      "10\n",
      "The number is greater than 10 therefore while stops\n"
     ]
    }
   ],
   "source": [
    "#print numbers from 1 to 10 using while loop\n",
    "i = 1\n",
    "\n",
    "while i <= 10:\n",
    "    print(i)\n",
    "    i += 1\n",
    "if i > 10:\n",
    "    print(\"The number is greater than 10 therefore while stops\")"
   ]
  },
  {
   "cell_type": "markdown",
   "id": "f3b6f27f-b25e-438d-b746-a02a2bf0e8ad",
   "metadata": {},
   "source": [
    "__6. Use nested while loop to print 3 different pattern.__ "
   ]
  },
  {
   "cell_type": "code",
   "execution_count": 6,
   "id": "719359f4-051c-40a1-9048-5cd54627e1e6",
   "metadata": {},
   "outputs": [
    {
     "name": "stdout",
     "output_type": "stream",
     "text": [
      "Pattern 1:\n",
      "* \n",
      "* * \n",
      "* * * \n",
      "* * * * \n",
      "* * * * * \n"
     ]
    }
   ],
   "source": [
    "print(\"Pattern 1:\")\n",
    "i = 1\n",
    "while i <= 5:\n",
    "    j = 1\n",
    "    while j <= i:\n",
    "        print(\"*\",end=\" \")\n",
    "        j += 1\n",
    "    print()\n",
    "    i += 1"
   ]
  },
  {
   "cell_type": "code",
   "execution_count": 7,
   "id": "34fb20ef-ff57-4d6a-a125-3dd6c9bd60ec",
   "metadata": {},
   "outputs": [
    {
     "name": "stdout",
     "output_type": "stream",
     "text": [
      "Pattern 2:\n",
      "* * * * * \n",
      "* * * * \n",
      "* * * \n",
      "* * \n",
      "* \n"
     ]
    }
   ],
   "source": [
    "print(\"Pattern 2:\")\n",
    "i = 5\n",
    "while i >= 1:\n",
    "    j = 1\n",
    "    while j <= i:\n",
    "        print(\"*\",end=\" \")\n",
    "        j += 1\n",
    "    print()\n",
    "    i -= 1"
   ]
  },
  {
   "cell_type": "code",
   "execution_count": 8,
   "id": "beaade3b-129d-413e-80fb-5751f44b0da4",
   "metadata": {},
   "outputs": [
    {
     "name": "stdout",
     "output_type": "stream",
     "text": [
      "Pattern 3:\n",
      "        * \n",
      "      * * \n",
      "    * * * \n",
      "  * * * * \n",
      "* * * * * \n"
     ]
    }
   ],
   "source": [
    "print(\"Pattern 3:\")\n",
    "i = 1\n",
    "while i <= 5:\n",
    "    j = 5\n",
    "    while j >= 1:\n",
    "        if j <= i:\n",
    "            print(\"*\",end=\" \")\n",
    "        else:\n",
    "            print(\" \",end=\" \")\n",
    "        j -= 1\n",
    "    print()\n",
    "    i += 1"
   ]
  },
  {
   "cell_type": "markdown",
   "id": "e39890dd-6dfd-413f-ab2e-3891df8d8e88",
   "metadata": {},
   "source": [
    "__7. Reverse a while loop to display numbers from 10 to 1.__"
   ]
  },
  {
   "cell_type": "code",
   "execution_count": 9,
   "id": "d986475e-0104-4c04-9ed4-3ae2c194994d",
   "metadata": {},
   "outputs": [
    {
     "name": "stdout",
     "output_type": "stream",
     "text": [
      "10\n",
      "9\n",
      "8\n",
      "7\n",
      "6\n",
      "5\n",
      "4\n",
      "3\n",
      "2\n",
      "1\n"
     ]
    }
   ],
   "source": [
    "i = 10\n",
    "\n",
    "while i >= 1:\n",
    "    print(i)\n",
    "    i -= 1"
   ]
  },
  {
   "cell_type": "code",
   "execution_count": null,
   "id": "5fe9b26b-f630-4247-ad94-19e0c8c8d43a",
   "metadata": {},
   "outputs": [],
   "source": []
  }
 ],
 "metadata": {
  "kernelspec": {
   "display_name": "Python 3 (ipykernel)",
   "language": "python",
   "name": "python3"
  },
  "language_info": {
   "codemirror_mode": {
    "name": "ipython",
    "version": 3
   },
   "file_extension": ".py",
   "mimetype": "text/x-python",
   "name": "python",
   "nbconvert_exporter": "python",
   "pygments_lexer": "ipython3",
   "version": "3.10.8"
  }
 },
 "nbformat": 4,
 "nbformat_minor": 5
}
